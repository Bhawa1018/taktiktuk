{
  "nbformat": 4,
  "nbformat_minor": 0,
  "metadata": {
    "colab": {
      "provenance": [],
      "authorship_tag": "ABX9TyNb2g3gMUtoLUxtjwRJbFF3",
      "include_colab_link": true
    },
    "kernelspec": {
      "name": "python3",
      "display_name": "Python 3"
    },
    "language_info": {
      "name": "python"
    }
  },
  "cells": [
    {
      "cell_type": "markdown",
      "metadata": {
        "id": "view-in-github",
        "colab_type": "text"
      },
      "source": [
        "<a href=\"https://colab.research.google.com/github/Bhawa1018/taktiktuk/blob/main/Untitled13.ipynb\" target=\"_parent\"><img src=\"https://colab.research.google.com/assets/colab-badge.svg\" alt=\"Open In Colab\"/></a>"
      ]
    },
    {
      "cell_type": "code",
      "execution_count": 1,
      "metadata": {
        "colab": {
          "base_uri": "https://localhost:8080/"
        },
        "id": "76ta4Zpz1Hju",
        "outputId": "b532047b-ce46-4c73-8fa4-c2f2ec83c1d1"
      },
      "outputs": [
        {
          "output_type": "stream",
          "name": "stdout",
          "text": [
            "  |   |  \n",
            "--|---|--\n",
            "  |   |  \n",
            "--|---|--\n",
            "  |   |  \n",
            "Player X's turn.\n",
            "Enter your move (1-9): 1\n",
            "X |   |  \n",
            "--|---|--\n",
            "  |   |  \n",
            "--|---|--\n",
            "  |   |  \n",
            "Player O's turn.\n",
            "Enter your move (1-9): 5\n",
            "X |   |  \n",
            "--|---|--\n",
            "  | O |  \n",
            "--|---|--\n",
            "  |   |  \n",
            "Player X's turn.\n",
            "Enter your move (1-9): 2\n",
            "X | X |  \n",
            "--|---|--\n",
            "  | O |  \n",
            "--|---|--\n",
            "  |   |  \n",
            "Player O's turn.\n",
            "Enter your move (1-9): 4\n",
            "X | X |  \n",
            "--|---|--\n",
            "O | O |  \n",
            "--|---|--\n",
            "  |   |  \n",
            "Player X's turn.\n",
            "Enter your move (1-9): 3\n",
            "X | X | X\n",
            "--|---|--\n",
            "O | O |  \n",
            "--|---|--\n",
            "  |   |  \n",
            "Player X wins!\n"
          ]
        }
      ],
      "source": [
        "# Define the board and initialize the game\n",
        "def initialize_board():\n",
        "    return [' ' for _ in range(9)]\n",
        "\n",
        "def print_board(board):\n",
        "    for i in range(3):\n",
        "        print(f\"{board[i*3]} | {board[i*3+1]} | {board[i*3+2]}\")\n",
        "        if i < 2:\n",
        "            print(\"--|---|--\")\n",
        "\n",
        "def check_winner(board, player):\n",
        "    win_conditions = [\n",
        "        (0, 1, 2), (3, 4, 5), (6, 7, 8), # Rows\n",
        "        (0, 3, 6), (1, 4, 7), (2, 5, 8), # Columns\n",
        "        (0, 4, 8), (2, 4, 6)              # Diagonals\n",
        "    ]\n",
        "    for a, b, c in win_conditions:\n",
        "        if board[a] == board[b] == board[c] == player:\n",
        "            return True\n",
        "    return False\n",
        "\n",
        "def is_board_full(board):\n",
        "    return ' ' not in board\n",
        "\n",
        "def get_move():\n",
        "    while True:\n",
        "        try:\n",
        "            move = int(input(\"Enter your move (1-9): \")) - 1\n",
        "            if move < 0 or move > 8:\n",
        "                print(\"Invalid move. Enter a number between 1 and 9.\")\n",
        "            else:\n",
        "                return move\n",
        "        except ValueError:\n",
        "            print(\"Invalid input. Enter a number between 1 and 9.\")\n",
        "\n",
        "def play_game():\n",
        "    board = initialize_board()\n",
        "    players = ['X', 'O']\n",
        "    turn = 0\n",
        "\n",
        "    while True:\n",
        "        print_board(board)\n",
        "        player = players[turn % 2]\n",
        "        print(f\"Player {player}'s turn.\")\n",
        "\n",
        "        move = get_move()\n",
        "        if board[move] != ' ':\n",
        "            print(\"This spot is taken. Try again.\")\n",
        "            continue\n",
        "\n",
        "        board[move] = player\n",
        "\n",
        "        if check_winner(board, player):\n",
        "            print_board(board)\n",
        "            print(f\"Player {player} wins!\")\n",
        "            break\n",
        "\n",
        "        if is_board_full(board):\n",
        "            print_board(board)\n",
        "            print(\"The game is a draw!\")\n",
        "            break\n",
        "\n",
        "        turn += 1\n",
        "\n",
        "if __name__ == \"__main__\":\n",
        "    play_game()\n"
      ]
    }
  ]
}